{
 "cells": [
  {
   "cell_type": "code",
   "execution_count": 1,
   "metadata": {},
   "outputs": [
    {
     "name": "stdout",
     "output_type": "stream",
     "text": [
      "cuda init succes\n"
     ]
    }
   ],
   "source": [
    "import torch\n",
    "import torch.nn as nn\n",
    "from torch.utils.data import DataLoader, Dataset\n",
    "\n",
    "import numpy as np\n",
    "import csv\n",
    "\n",
    "import matplotlib.pyplot as plt\n",
    "\n",
    "myseed = 69\n",
    "torch.backends.cudnn.deterministic = True\n",
    "torch.backends.cudnn.benchmark = False\n",
    "np.random.seed(myseed)\n",
    "torch.manual_seed(myseed)\n",
    "if torch.cuda.is_available():\n",
    "    torch.cuda.manual_seed_all(myseed)\n",
    "    print('cuda init succes')"
   ]
  },
  {
   "cell_type": "markdown",
   "metadata": {},
   "source": [
    "## **data process**"
   ]
  },
  {
   "cell_type": "code",
   "execution_count": 2,
   "metadata": {},
   "outputs": [],
   "source": [
    "# path = './covid.train.csv'\n",
    "\n",
    "# with open(path, 'r') as csv_file:\n",
    "#     data = list(csv.reader(csv_file))\n",
    "#     data = np.array(data[1:]) # 去除英文標籤\n",
    "#     data = data[:,1:].astype(float) # 去除ID編號\n",
    "# print(data.shape)\n",
    "# train_target = data[:, -1]\n",
    "# train_data = data[:,:-1]"
   ]
  },
  {
   "cell_type": "code",
   "execution_count": 2,
   "metadata": {},
   "outputs": [],
   "source": [
    "class COVID19_data_process(Dataset):\n",
    "    def __init__(self, path, mode):\n",
    "        self.mode = mode\n",
    "        \n",
    "        with open(path, 'r') as csv_file:\n",
    "            data = list(csv.reader(csv_file))\n",
    "            data = np.array(data[1:]) # 去除英文標籤\n",
    "            data = data[:,1:].astype(float) # 去除ID編號\n",
    "\n",
    "        # 40 + 18 + 18 + 17 = 93 測試資料長度\n",
    "        size = list(range(93))\n",
    "        if mode == 'test':\n",
    "            data = data[:, size]\n",
    "            # convert data to torch tensor\n",
    "            self.data = torch.FloatTensor(data)\n",
    "        else:\n",
    "            # taining data 長度為 94，因為多了一行 test postive ， 而這個是我們要用的\n",
    "            data = data[:, size]\n",
    "            target = data[:, -1]\n",
    "            \n",
    "            # train 有 2700 row，我們可以切一些出來當 validatiion set\n",
    "            if mode == 'train':\n",
    "                indicates = [i for i in range(len(data)) if i % 15 != 0]\n",
    "            elif mode == 'vali': \n",
    "                indicates = [i for i in range(len(data)) if i % 15 == 0]\n",
    "                      \n",
    "            self.data = torch.FloatTensor(data[indicates])\n",
    "            self.target = torch.FloatTensor(target[indicates])\n",
    "        \n",
    "        ### 正規化 可槓掉看結果差異 (收斂不易)\n",
    "        self.data[:,40:] = ((self.data[:,40:] - self.data[:,40:].mean(dim=0, keepdim=True)) /\n",
    "                            self.data[:,40:].std(dim=0, keepdim = True))\n",
    "        \n",
    "        \n",
    "        self.dim = self.data.shape[1]\n",
    "        print(' Finish {:} read, it got all {:}, and shape is {:}'\n",
    "              .format(mode, len(self.data), self.data.shape))\n",
    "        \n",
    "    def __getitem__(self, index):\n",
    "        if self.mode in ['train', 'vali']:\n",
    "            return self.data[index], self.target[index]\n",
    "        else:\n",
    "            # testing data 沒有 target 值，那是我們要預測的\n",
    "            return self.data[index]\n",
    "        \n",
    "    def __len__(self):\n",
    "        return len(self.data)\n",
    "    "
   ]
  },
  {
   "cell_type": "code",
   "execution_count": 3,
   "metadata": {},
   "outputs": [],
   "source": [
    "def pre_loader(path, mode, batch_size, change_type = False):\n",
    "    ## 從 class 生成數據集在丟入 Dataloader\n",
    "    dataset = COVID19_data_process(path, mode=mode, change_type)\n",
    "    ## pin_memory 將資料先存入內存，這樣轉去 gpu 會較快\n",
    "    dataloader = DataLoader(dataset, batch_size,\n",
    "                           shuffle=(mode == 'train'), drop_last=False,\n",
    "                           num_workers=0, pin_memory = True)\n",
    "    return dataloader"
   ]
  },
  {
   "cell_type": "markdown",
   "metadata": {},
   "source": [
    "## **Neural Network**"
   ]
  },
  {
   "cell_type": "code",
   "execution_count": 4,
   "metadata": {},
   "outputs": [],
   "source": [
    "class NeuralNet(nn.Module):\n",
    "    def __init__(self, input_dim):\n",
    "        super(NeuralNet, self).__init__()\n",
    "        \n",
    "        self.net = nn.Sequential(\n",
    "            nn.Linear(input_dim, 64),\n",
    "            nn.ReLU(),\n",
    "            nn.Linear(64,16),\n",
    "            nn.ReLU(),\n",
    "            nn.Linear(16,1)\n",
    "        )\n",
    "        ## MSE\n",
    "        self.criterion = nn.MSELoss(reduction = 'mean')\n",
    "        \n",
    "    def forward(self, x):\n",
    "        ''' Given input of size (batch_size x input_dim), compute output of the network '''\n",
    "        # shape 180 x 1 != shape 180 的概念\n",
    "        return self.net(x).squeeze(1)\n",
    "    \n",
    "    def call_loss(self, pred, target):\n",
    "        return self.criterion(pred, target)\n",
    "    "
   ]
  },
  {
   "cell_type": "markdown",
   "metadata": {},
   "source": [
    "## Train / vali / test"
   ]
  },
  {
   "cell_type": "code",
   "execution_count": 5,
   "metadata": {},
   "outputs": [],
   "source": [
    "# train\n",
    "def training(train_dataset, vali_dataset, model, device):\n",
    "    optimizer = torch.optim.SGD(model.parameters(), lr = 0.001, momentum = 0.9) \n",
    "\n",
    "    min_mse = 1000.\n",
    "    loss_record = {'train': [], 'vali': []}\n",
    "    early_stop_cnt = 0\n",
    "    n_epochs = 3000\n",
    "    epoch = 0\n",
    "    while epoch < n_epochs:\n",
    "        model.train()\n",
    "        for data, label in train_dataset:\n",
    "            optimizer.zero_grad()\n",
    "            data, label = data.to(device), label.to(device)\n",
    "            pred = model(data)\n",
    "            mse_loss = model.call_loss(pred, label)\n",
    "            mse_loss.backward() # compute gradient (backpropagation)\n",
    "            optimizer.step() # update model with optimizer\n",
    "#             loss_record['train'].append(mse_loss.detach().cpu().item())\n",
    "            loss_record['train'].append(mse_loss.cpu().item())\n",
    "        # After each epoch, test your model on the validation (development) set.\n",
    "        vali_mse = validate(vali_dataset, model, device)\n",
    "#         print(vali_mse)\n",
    "        if vali_mse < min_mse:\n",
    "            min_mse = vali_mse\n",
    "            print('Saving model (epoch = {:4d}, loss = {:.4f})'\n",
    "                 .format(epoch+1, min_mse))\n",
    "            torch.save(model.state_dict(), './HW1.pth')\n",
    "            early_stop_cnt = 0\n",
    "        else:\n",
    "            early_stop_cnt += 1\n",
    "\n",
    "        epoch += 1\n",
    "        loss_record['vali'].append(vali_mse)\n",
    "        if early_stop_cnt > 200:\n",
    "            break\n",
    "    print('Finish training {} epochs'.format(epoch))\n",
    "    return min_mse, loss_record"
   ]
  },
  {
   "cell_type": "code",
   "execution_count": 6,
   "metadata": {},
   "outputs": [],
   "source": [
    "# validation\n",
    "def validate(vali_dataset, model, device):\n",
    "    model.eval()\n",
    "    total_loss = 0\n",
    "    for data, label in vali_dataset:\n",
    "        data, label = data.to(device), label.to(device)\n",
    "        with  torch.no_grad(): # 評估驗算時，不需要更新參數\n",
    "            pred = model(data)\n",
    "            mse_loss = model.call_loss(pred, label) \n",
    "#         total_loss += mse_loss.detach().cpu().item() * len(data)\n",
    "        total_loss += mse_loss.cpu().item() * len(data)\n",
    "    total_loss = total_loss / len(vali_dataset.dataset)\n",
    "    return total_loss"
   ]
  },
  {
   "cell_type": "code",
   "execution_count": 7,
   "metadata": {},
   "outputs": [],
   "source": [
    "# test\n",
    "def testing(test_dataset, model, device):\n",
    "    model.eval()\n",
    "    pred_label = []\n",
    "    for data in test_dataset:\n",
    "        data = data.to(device)\n",
    "        with torch.no_grad():\n",
    "            pred = model(data)\n",
    "#             pred_label.append(pred.detach().cpu())\n",
    "            pred_label.append(pred.cpu())\n",
    "    pred_label = torch.cat(pred_label, dim=0).numpy() \n",
    "    return pred_label"
   ]
  },
  {
   "cell_type": "code",
   "execution_count": 8,
   "metadata": {},
   "outputs": [
    {
     "name": "stdout",
     "output_type": "stream",
     "text": [
      "cuda\n"
     ]
    }
   ],
   "source": [
    "def get_device():\n",
    "    # 檢查是不是有 GPU 可以用，可以就用 GPU，不行就更改\n",
    "    return 'cuda' if torch.cuda.is_available() else 'cpu'\n",
    "device  = get_device()\n",
    "print(device)"
   ]
  },
  {
   "cell_type": "code",
   "execution_count": 9,
   "metadata": {},
   "outputs": [
    {
     "name": "stdout",
     "output_type": "stream",
     "text": [
      " Finish train read, it got all 2520, and shape is torch.Size([2520, 93])\n",
      " Finish vali read, it got all 180, and shape is torch.Size([180, 93])\n",
      " Finish test read, it got all 893, and shape is torch.Size([893, 93])\n"
     ]
    }
   ],
   "source": [
    "train_file_path = './covid.train.csv'\n",
    "test_file_path = './covid.test.csv'\n",
    "# batch_size 用 180 是因為切出來數據關係(vali)\n",
    "train_dataset = pre_loader(train_file_path, 'train', batch_size = 180)\n",
    "vali_dataset = pre_loader(train_file_path, 'vali', batch_size = 180)\n",
    "test_dataset = pre_loader(test_file_path, 'test',  batch_size = 180)"
   ]
  },
  {
   "cell_type": "code",
   "execution_count": 10,
   "metadata": {},
   "outputs": [],
   "source": [
    "model = NeuralNet(train_dataset.dataset.dim).to(device)"
   ]
  },
  {
   "cell_type": "code",
   "execution_count": 11,
   "metadata": {
    "scrolled": true
   },
   "outputs": [
    {
     "name": "stdout",
     "output_type": "stream",
     "text": [
      "Saving model (epoch =    1, loss = 204.3650)\n",
      "Saving model (epoch =    2, loss = 59.2460)\n",
      "Saving model (epoch =    3, loss = 35.4773)\n",
      "Saving model (epoch =    4, loss = 10.8147)\n",
      "Saving model (epoch =    5, loss = 6.5899)\n",
      "Saving model (epoch =    6, loss = 3.0663)\n",
      "Saving model (epoch =    7, loss = 2.0005)\n",
      "Saving model (epoch =    8, loss = 1.2870)\n",
      "Saving model (epoch =    9, loss = 0.9550)\n",
      "Saving model (epoch =   10, loss = 0.6415)\n",
      "Saving model (epoch =   12, loss = 0.4713)\n",
      "Saving model (epoch =   13, loss = 0.4008)\n",
      "Saving model (epoch =   14, loss = 0.3653)\n",
      "Saving model (epoch =   15, loss = 0.3569)\n",
      "Saving model (epoch =   16, loss = 0.2972)\n",
      "Saving model (epoch =   17, loss = 0.2771)\n",
      "Saving model (epoch =   18, loss = 0.2547)\n",
      "Saving model (epoch =   19, loss = 0.2509)\n",
      "Saving model (epoch =   20, loss = 0.2361)\n",
      "Saving model (epoch =   21, loss = 0.2215)\n",
      "Saving model (epoch =   22, loss = 0.2036)\n",
      "Saving model (epoch =   24, loss = 0.1706)\n",
      "Saving model (epoch =   25, loss = 0.1681)\n",
      "Saving model (epoch =   27, loss = 0.1603)\n",
      "Saving model (epoch =   28, loss = 0.1538)\n",
      "Saving model (epoch =   29, loss = 0.1406)\n",
      "Saving model (epoch =   31, loss = 0.1345)\n",
      "Saving model (epoch =   32, loss = 0.1304)\n",
      "Saving model (epoch =   33, loss = 0.1150)\n",
      "Saving model (epoch =   35, loss = 0.1060)\n",
      "Saving model (epoch =   38, loss = 0.1031)\n",
      "Saving model (epoch =   39, loss = 0.0964)\n",
      "Saving model (epoch =   42, loss = 0.0926)\n",
      "Saving model (epoch =   45, loss = 0.0796)\n",
      "Saving model (epoch =   46, loss = 0.0765)\n",
      "Saving model (epoch =   49, loss = 0.0732)\n",
      "Saving model (epoch =   53, loss = 0.0651)\n",
      "Saving model (epoch =   55, loss = 0.0624)\n",
      "Saving model (epoch =   58, loss = 0.0548)\n",
      "Saving model (epoch =   62, loss = 0.0515)\n",
      "Saving model (epoch =   63, loss = 0.0500)\n",
      "Saving model (epoch =   64, loss = 0.0471)\n",
      "Saving model (epoch =   68, loss = 0.0451)\n",
      "Saving model (epoch =   70, loss = 0.0451)\n",
      "Saving model (epoch =   71, loss = 0.0434)\n",
      "Saving model (epoch =   74, loss = 0.0428)\n",
      "Saving model (epoch =   75, loss = 0.0408)\n",
      "Saving model (epoch =   76, loss = 0.0404)\n",
      "Saving model (epoch =   77, loss = 0.0379)\n",
      "Saving model (epoch =   80, loss = 0.0357)\n",
      "Saving model (epoch =   84, loss = 0.0348)\n",
      "Saving model (epoch =   88, loss = 0.0305)\n",
      "Saving model (epoch =   91, loss = 0.0301)\n",
      "Saving model (epoch =   94, loss = 0.0295)\n",
      "Saving model (epoch =   96, loss = 0.0276)\n",
      "Saving model (epoch =  100, loss = 0.0270)\n",
      "Saving model (epoch =  106, loss = 0.0254)\n",
      "Saving model (epoch =  108, loss = 0.0254)\n",
      "Saving model (epoch =  109, loss = 0.0252)\n",
      "Saving model (epoch =  110, loss = 0.0242)\n",
      "Saving model (epoch =  113, loss = 0.0225)\n",
      "Saving model (epoch =  117, loss = 0.0223)\n",
      "Saving model (epoch =  123, loss = 0.0206)\n",
      "Saving model (epoch =  131, loss = 0.0190)\n",
      "Saving model (epoch =  137, loss = 0.0188)\n",
      "Saving model (epoch =  145, loss = 0.0186)\n",
      "Saving model (epoch =  146, loss = 0.0184)\n",
      "Saving model (epoch =  148, loss = 0.0174)\n",
      "Saving model (epoch =  149, loss = 0.0172)\n",
      "Saving model (epoch =  151, loss = 0.0166)\n",
      "Saving model (epoch =  153, loss = 0.0159)\n",
      "Saving model (epoch =  158, loss = 0.0154)\n",
      "Saving model (epoch =  163, loss = 0.0153)\n",
      "Saving model (epoch =  168, loss = 0.0149)\n",
      "Saving model (epoch =  169, loss = 0.0148)\n",
      "Saving model (epoch =  170, loss = 0.0144)\n",
      "Saving model (epoch =  177, loss = 0.0137)\n",
      "Saving model (epoch =  183, loss = 0.0129)\n",
      "Saving model (epoch =  187, loss = 0.0128)\n",
      "Saving model (epoch =  196, loss = 0.0125)\n",
      "Saving model (epoch =  198, loss = 0.0125)\n",
      "Saving model (epoch =  203, loss = 0.0123)\n",
      "Saving model (epoch =  209, loss = 0.0117)\n",
      "Saving model (epoch =  216, loss = 0.0108)\n",
      "Saving model (epoch =  226, loss = 0.0106)\n",
      "Saving model (epoch =  238, loss = 0.0102)\n",
      "Saving model (epoch =  245, loss = 0.0099)\n",
      "Saving model (epoch =  254, loss = 0.0093)\n",
      "Saving model (epoch =  269, loss = 0.0082)\n",
      "Saving model (epoch =  281, loss = 0.0081)\n",
      "Saving model (epoch =  299, loss = 0.0080)\n",
      "Saving model (epoch =  319, loss = 0.0071)\n",
      "Saving model (epoch =  329, loss = 0.0070)\n",
      "Saving model (epoch =  377, loss = 0.0067)\n",
      "Saving model (epoch =  398, loss = 0.0063)\n",
      "Saving model (epoch =  411, loss = 0.0054)\n",
      "Finish training 512 epochs\n"
     ]
    }
   ],
   "source": [
    "model_loss, model_record_loss = training(train_dataset, vali_dataset, model, device)"
   ]
  },
  {
   "cell_type": "code",
   "execution_count": 12,
   "metadata": {},
   "outputs": [],
   "source": [
    "def plot_learning_curve(loss_record, title=''):\n",
    "    ''' Plot learning curve of your DNN (train & vali loss) '''\n",
    "    total_steps = len(loss_record['train'])\n",
    "    x_1 = range(total_steps)\n",
    "#     print(x_1)\n",
    "    x_2 = x_1[::len(loss_record['train']) // len(loss_record['vali'])]\n",
    "    plt.figure(figsize=(12, 10))\n",
    "    plt.plot(x_1, loss_record['train'], c='tab:red', label='train')\n",
    "    plt.plot(x_2, loss_record['vali'], c='tab:cyan', label='vali')\n",
    "    plt.ylim(0.0, 2.)\n",
    "    plt.xlabel('Training steps')\n",
    "    plt.ylabel('MSE loss')\n",
    "    plt.title('Learning curve of {}'.format(title))\n",
    "    plt.legend()\n",
    "    plt.show()\n",
    "\n",
    "\n",
    "def plot_pred(vali_dataset, model, device, lim=50., preds=None, targets=None):\n",
    "    ''' Plot prediction of your DNN '''\n",
    "    if preds is None or targets is None:\n",
    "        model.eval()\n",
    "        preds, targets = [], []\n",
    "        for x, y in vali_dataset:\n",
    "            x, y = x.to(device), y.to(device)\n",
    "            with torch.no_grad():\n",
    "                pred = model(x)\n",
    "                preds.append(pred.detach().cpu())\n",
    "                targets.append(y.detach().cpu())\n",
    "        preds = torch.cat(preds, dim=0).numpy()\n",
    "        targets = torch.cat(targets, dim=0).numpy()\n",
    "#     print(preds)\n",
    "#     print(targets)\n",
    "    plt.figure(figsize=(12, 12))\n",
    "    plt.scatter(targets, preds, c='r')\n",
    "    plt.plot([-0.2, lim], [-0.2, lim], c='b')\n",
    "    plt.xlim(-0.2, lim)\n",
    "    plt.ylim(-0.2, lim)\n",
    "    plt.xlabel('ground truth value')\n",
    "    plt.ylabel('predicted value')\n",
    "    plt.title('Ground Truth v.s. Prediction')\n",
    "    plt.show()"
   ]
  },
  {
   "cell_type": "code",
   "execution_count": 13,
   "metadata": {},
   "outputs": [
    {
     "data": {
      "image/png": "[encoded data removed]",
      "text/plain": [
       "<Figure size 864x720 with 1 Axes>"
      ]
     },
     "metadata": {
      "needs_background": "light"
     },
     "output_type": "display_data"
    }
   ],
   "source": [
    "plot_learning_curve(model_record_loss, title='deep model')"
   ]
  },
  {
   "cell_type": "code",
   "execution_count": 14,
   "metadata": {},
   "outputs": [
    {
     "data": {
      "image/png": "[encoded data removed]",
      "text/plain": [
       "<Figure size 864x864 with 1 Axes>"
      ]
     },
     "metadata": {
      "needs_background": "light"
     },
     "output_type": "display_data"
    }
   ],
   "source": [
    "del model\n",
    "model = NeuralNet(train_dataset.dataset.dim).to(device)\n",
    "ckpt = torch.load('./HW1.pth', map_location='cpu')  # Load your best model\n",
    "model.load_state_dict(ckpt)\n",
    "plot_pred(vali_dataset, model, device)  # Show prediction on the validation set"
   ]
  },
  {
   "cell_type": "code",
   "execution_count": 16,
   "metadata": {},
   "outputs": [
    {
     "name": "stdout",
     "output_type": "stream",
     "text": [
      "prepare to save\n",
      "end\n"
     ]
    }
   ],
   "source": [
    "# save \n",
    "file = 'pred.csv'\n",
    "test_pred = testing(test_dataset, model, device)\n",
    "print('prepare to save')\n",
    "with open(file, 'w', newline='') as fp:\n",
    "    writer = csv.writer(fp)\n",
    "    writer.writerow(['id', 'tested_positive'])\n",
    "    for index, content in enumerate(test_pred):\n",
    "        writer.writerow([index, content])\n",
    "print('end')"
   ]
  },
  {
   "cell_type": "code",
   "execution_count": null,
   "metadata": {},
   "outputs": [],
   "source": []
  }
 ],
 "metadata": {
  "kernelspec": {
   "display_name": "Python 3",
   "language": "python",
   "name": "python3"
  },
  "language_info": {
   "codemirror_mode": {
    "name": "ipython",
    "version": 3
   },
   "file_extension": ".py",
   "mimetype": "text/x-python",
   "name": "python",
   "nbconvert_exporter": "python",
   "pygments_lexer": "ipython3",
   "version": "3.7.3"
  }
 },
 "nbformat": 4,
 "nbformat_minor": 4
}
